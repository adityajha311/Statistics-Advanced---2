{
 "cells": [
  {
   "cell_type": "markdown",
   "id": "1d43f633",
   "metadata": {},
   "source": [
    "# Statistics Advanced - 2 (Assignment)\n",
    "\n",
    "Questions Q1–Q9 with answers and runnable code."
   ]
  },
  {
   "cell_type": "markdown",
   "id": "e5169e7b",
   "metadata": {},
   "source": [
    "### Q1. What is hypothesis testing in statistics?\n",
    "\n",
    "**Answer:** Hypothesis testing is a formal procedure to evaluate claims about a population parameter using sample data. You set up a null hypothesis (H0) and an alternative (H1), compute a test statistic from the sample, and use its sampling distribution to decide whether to reject H0."
   ]
  },
  {
   "cell_type": "markdown",
   "id": "6806e53e",
   "metadata": {},
   "source": [
    "### Q2. What is the null hypothesis, and how does it differ from the alternative hypothesis?\n",
    "\n",
    "**Answer:** The **null hypothesis (H0)** is a default statement that there is no effect or no difference (e.g., μ = μ0). The **alternative hypothesis (H1)** is what you want to test for (e.g., μ ≠ μ0, μ > μ0, or μ < μ0)."
   ]
  },
  {
   "cell_type": "markdown",
   "id": "b4b224a6",
   "metadata": {},
   "source": [
    "### Q3. Explain the significance level in hypothesis testing and its role in deciding the outcome of a test.\n",
    "\n",
    "**Answer:** The significance level (α) is the threshold probability for rejecting H0 when it is actually true (Type I error). Common choices are 0.05 or 0.01. If the p-value ≤ α, you reject H0; otherwise you fail to reject H0."
   ]
  },
  {
   "cell_type": "markdown",
   "id": "b1f6ef7d",
   "metadata": {},
   "source": [
    "### Q4. What are Type I and Type II errors? Give examples of each.\n",
    "\n",
    "**Answer:** - **Type I error (α):** Rejecting H0 when it is true. Example: concluding a drug works when it doesn't.\n",
    "- **Type II error (β):** Failing to reject H0 when it is false. Example: concluding a drug doesn't work when it does."
   ]
  },
  {
   "cell_type": "markdown",
   "id": "ab33813a",
   "metadata": {},
   "source": [
    "### Q5. What is the difference between a Z-test and a T-test? Explain when to use each.\n",
    "\n",
    "**Answer:** A **Z-test** is used when the population standard deviation is known (or sample size is large, n > 30) and the sampling distribution is approximately normal. A **T-test** is used when the population standard deviation is unknown and the sample is small; it uses the t-distribution with n-1 degrees of freedom."
   ]
  },
  {
   "cell_type": "markdown",
   "id": "8e47f698",
   "metadata": {},
   "source": [
    "### Q6. Generate a binomial distribution with n=10 and p=0.5, then plot its histogram.\n",
    "\n",
    "**Code and output:**"
   ]
  },
  {
   "cell_type": "code",
   "execution_count": null,
   "id": "6f849f7e",
   "metadata": {},
   "outputs": [],
   "source": [
    "# Q6. Generate a binomial distribution with n=10 and p=0.5, then plot its histogram.\n",
    "import numpy as np\n",
    "import matplotlib.pyplot as plt\n",
    "\n",
    "n = 10\n",
    "p = 0.5\n",
    "size = 1000  # number of experiments\n",
    "samples = np.random.binomial(n, p, size=size)\n",
    "\n",
    "# Print basic stats\n",
    "print(\"Sample size:\", size)\n",
    "print(\"Unique outcomes (0..10):\", np.unique(samples))\n",
    "print(\"Mean (empirical):\", samples.mean())\n",
    "print(\"Variance (empirical):\", samples.var())\n",
    "\n",
    "# Plot histogram\n",
    "plt.figure(figsize=(8,4))\n",
    "plt.hist(samples, bins=range(n+2), align='left', edgecolor='black')\n",
    "plt.xticks(range(n+1))\n",
    "plt.title(f'Binomial(n={n}, p={p}) - {size} samples')\n",
    "plt.xlabel('Number of successes')\n",
    "plt.ylabel('Frequency')\n",
    "plt.grid(axis='y', alpha=0.75)\n",
    "plt.show()"
   ]
  },
  {
   "cell_type": "markdown",
   "id": "2e4cbf9e",
   "metadata": {},
   "source": [
    "### Q7. Implement hypothesis testing using Z-statistics for a sample dataset.\n",
    "\n",
    "**Test:** H0: μ = 50 vs H1: μ ≠ 50\n",
    "\n",
    "**Code and output:**"
   ]
  },
  {
   "cell_type": "code",
   "execution_count": null,
   "id": "2eb291eb",
   "metadata": {},
   "outputs": [],
   "source": [
    "# Q7. Implement hypothesis testing using Z-statistics for a sample dataset.\n",
    "# Provided sample_data - we will test H0: mu = 50 versus H1: mu != 50\n",
    "import numpy as np\n",
    "from math import sqrt\n",
    "from scipy import stats\n",
    "\n",
    "sample_data = [49.1, 50.2, 51.0, 48.7, 50.5, 49.8, 50.3, 50.7, 50.2, 49.6,\n",
    "               50.1, 49.9, 50.8, 50.4, 48.9, 50.6, 50.0, 49.7, 50.2, 49.5,\n",
    "               50.1, 50.3, 50.4, 50.5, 50.0, 50.7, 49.3, 49.8, 50.2, 50.9,\n",
    "               50.3, 50.4, 50.0, 49.7, 50.5, 49.9]\n",
    "\n",
    "x = np.array(sample_data)\n",
    "n = len(x)\n",
    "xbar = x.mean()\n",
    "s = x.std(ddof=1)  # sample standard deviation\n",
    "\n",
    "# For a Z-test we either need population sigma or use large-sample approximation.\n",
    "# Here n is reasonably large; we will use sample std as an estimate and perform z-approximation.\n",
    "mu0 = 50.0  # null hypothesis mean\n",
    "se = s / np.sqrt(n)\n",
    "z_stat = (xbar - mu0) / se\n",
    "\n",
    "# two-sided p-value using standard normal\n",
    "p_value = 2 * (1 - stats.norm.cdf(abs(z_stat)))\n",
    "\n",
    "print(f\"n = {n}, sample mean = {xbar:.4f}, sample sd = {s:.4f}\")\n",
    "print(f\"Z-statistic = {z_stat:.4f}, two-sided p-value = {p_value:.4f}\")\n",
    "\n",
    "alpha = 0.05\n",
    "if p_value < alpha:\n",
    "    print(f\"Reject H0 at alpha={alpha}: sample provides evidence that mean != {mu0}.\")\n",
    "else:\n",
    "    print(f\"Fail to reject H0 at alpha={alpha}: no strong evidence that mean != {mu0}.\")"
   ]
  },
  {
   "cell_type": "markdown",
   "id": "353e1179",
   "metadata": {},
   "source": [
    "### Q8. Simulate data from a normal distribution and calculate the 95% confidence interval for its mean.\n",
    "\n",
    "**Code and output:**"
   ]
  },
  {
   "cell_type": "code",
   "execution_count": null,
   "id": "73879ade",
   "metadata": {},
   "outputs": [],
   "source": [
    "# Q8. Simulate data from a normal distribution and calculate a 95% confidence interval for the mean.\n",
    "import numpy as np\n",
    "import matplotlib.pyplot as plt\n",
    "from scipy import stats\n",
    "\n",
    "np.random.seed(42)\n",
    "mu = 100  # true mean\n",
    "sigma = 15  # true std dev\n",
    "n = 50\n",
    "data = np.random.normal(mu, sigma, size=n)\n",
    "\n",
    "# Sample statistics\n",
    "xbar = data.mean()\n",
    "s = data.std(ddof=1)\n",
    "\n",
    "# 95% CI using t-distribution (since sigma typically unknown)\n",
    "conf_level = 0.95\n",
    "df = n - 1\n",
    "t_crit = stats.t.ppf((1 + conf_level) / 2, df)\n",
    "se = s / np.sqrt(n)\n",
    "ci_lower = xbar - t_crit * se\n",
    "ci_upper = xbar + t_crit * se\n",
    "\n",
    "print(f\"Sample mean = {xbar:.4f}, sample sd = {s:.4f}, n = {n}\")\n",
    "print(f\"95% CI for mean: ({ci_lower:.4f}, {ci_upper:.4f})\")\n",
    "\n",
    "# Plot data histogram with mean and CI lines\n",
    "plt.figure(figsize=(8,4))\n",
    "plt.hist(data, bins=12, edgecolor='black', alpha=0.7)\n",
    "plt.axvline(xbar, color='red', linestyle='--', label=f\"Mean = {xbar:.2f}\")\n",
    "plt.axvline(ci_lower, color='green', linestyle=':', label=f\"95% CI lower = {ci_lower:.2f}\")\n",
    "plt.axvline(ci_upper, color='green', linestyle=':', label=f\"95% CI upper = {ci_upper:.2f}\")\n",
    "plt.title(\"Simulated Normal Data and 95% CI for Mean\")\n",
    "plt.legend()\n",
    "plt.grid(alpha=0.3)\n",
    "plt.show()"
   ]
  },
  {
   "cell_type": "markdown",
   "id": "aba5e79a",
   "metadata": {},
   "source": [
    "### Q9. Write a Python function to calculate the Z-scores from a dataset and visualize the standardized data using a histogram.\n",
    "\n",
    "**Code and output:**"
   ]
  },
  {
   "cell_type": "code",
   "execution_count": null,
   "id": "b7f4c781",
   "metadata": {},
   "outputs": [],
   "source": [
    "# Q9. Function to calculate Z-scores and visualize standardized data\n",
    "import numpy as np\n",
    "import matplotlib.pyplot as plt\n",
    "\n",
    "def plot_z_scores(data):\n",
    "    x = np.array(data)\n",
    "    mean = x.mean()\n",
    "    std = x.std(ddof=1)\n",
    "    z_scores = (x - mean) / std\n",
    "    print(f\"Mean = {mean:.4f}, SD = {std:.4f}\")\n",
    "    print(\"First 10 z-scores:\", np.round(z_scores[:10], 3))\n",
    "    plt.figure(figsize=(8,4))\n",
    "    plt.hist(z_scores, bins=12, edgecolor='black', alpha=0.7)\n",
    "    plt.axvline(0, color='red', linestyle='--', label='Mean (z=0)')\n",
    "    plt.title('Histogram of Z-scores (standardized data)')\n",
    "    plt.xlabel('Z-score')\n",
    "    plt.ylabel('Frequency')\n",
    "    plt.legend()\n",
    "    plt.grid(alpha=0.3)\n",
    "    plt.show()\n",
    "    return z_scores\n",
    "\n",
    "# Example usage with simulated data\n",
    "data_example = np.random.normal(50, 5, size=100)\n",
    "z = plot_z_scores(data_example)\n",
    "\n",
    "# Explanation:\n",
    "explanation = \"\"\"Z-scores indicate how many standard deviations an observation is from the mean.\n",
    "A z-score of 0 means the value equals the mean; z = 1 means one standard deviation above the mean; z = -2 means two standard deviations below the mean.\"\"\"\n",
    "print(explanation)"
   ]
  }
 ],
 "metadata": {},
 "nbformat": 4,
 "nbformat_minor": 5
}
